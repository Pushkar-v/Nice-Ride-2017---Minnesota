{
 "cells": [
  {
   "cell_type": "code",
   "execution_count": 98,
   "metadata": {},
   "outputs": [],
   "source": [
    "import pandas as pd\n",
    "import numpy as np\n",
    "import matplotlib.pyplot as plt\n",
    "from datetime import datetime"
   ]
  },
  {
   "cell_type": "code",
   "execution_count": 6,
   "metadata": {},
   "outputs": [],
   "source": [
    "data = pd.read_csv(r'C:\\Users\\pmven\\Google Drive\\1. myDocs\\Projects\\Nice Ride\\Data\\Nice_ride_trip_history_2017_season.csv', sep = ',', parse_dates = ['Start date', 'End date'])"
   ]
  },
  {
   "cell_type": "code",
   "execution_count": 113,
   "metadata": {},
   "outputs": [
    {
     "data": {
      "text/plain": [
       "array([11, 10,  9,  8,  7,  6,  5,  4], dtype=int64)"
      ]
     },
     "execution_count": 113,
     "metadata": {},
     "output_type": "execute_result"
    }
   ],
   "source": [
    "data['Start_Month'] = pd.DatetimeIndex(data['Start date']).month\n",
    "data['Start_Month'].unique()"
   ]
  },
  {
   "cell_type": "code",
   "execution_count": 105,
   "metadata": {},
   "outputs": [
    {
     "data": {
      "text/html": [
       "<div>\n",
       "<style scoped>\n",
       "    .dataframe tbody tr th:only-of-type {\n",
       "        vertical-align: middle;\n",
       "    }\n",
       "\n",
       "    .dataframe tbody tr th {\n",
       "        vertical-align: top;\n",
       "    }\n",
       "\n",
       "    .dataframe thead th {\n",
       "        text-align: right;\n",
       "    }\n",
       "</style>\n",
       "<table border=\"1\" class=\"dataframe\">\n",
       "  <thead>\n",
       "    <tr style=\"text-align: right;\">\n",
       "      <th></th>\n",
       "      <th>Start date</th>\n",
       "      <th>Start station</th>\n",
       "      <th>Start station number</th>\n",
       "      <th>End date</th>\n",
       "      <th>End station</th>\n",
       "      <th>End station number</th>\n",
       "      <th>Account type</th>\n",
       "      <th>Total duration (Seconds)</th>\n",
       "      <th>Start_Month</th>\n",
       "    </tr>\n",
       "  </thead>\n",
       "  <tbody>\n",
       "    <tr>\n",
       "      <th>0</th>\n",
       "      <td>2017-11-05 21:45:00</td>\n",
       "      <td>Hennepin Ave &amp; S Washington Ave</td>\n",
       "      <td>30184</td>\n",
       "      <td>2017-11-05 22:02:00</td>\n",
       "      <td>Logan Park</td>\n",
       "      <td>30104</td>\n",
       "      <td>Member</td>\n",
       "      <td>1048</td>\n",
       "      <td>11</td>\n",
       "    </tr>\n",
       "    <tr>\n",
       "      <th>1</th>\n",
       "      <td>2017-11-05 21:45:00</td>\n",
       "      <td>Broadway Street N &amp; 4th Street E</td>\n",
       "      <td>30122</td>\n",
       "      <td>2017-11-05 22:26:00</td>\n",
       "      <td>Broadway Street N &amp; 4th Street E</td>\n",
       "      <td>30122</td>\n",
       "      <td>Member</td>\n",
       "      <td>2513</td>\n",
       "      <td>11</td>\n",
       "    </tr>\n",
       "    <tr>\n",
       "      <th>2</th>\n",
       "      <td>2017-11-05 21:43:00</td>\n",
       "      <td>Dale Street &amp; Grand Ave.</td>\n",
       "      <td>30106</td>\n",
       "      <td>2017-11-05 22:13:00</td>\n",
       "      <td>N Milton Street &amp; Summit Ave</td>\n",
       "      <td>30101</td>\n",
       "      <td>Member</td>\n",
       "      <td>1817</td>\n",
       "      <td>11</td>\n",
       "    </tr>\n",
       "    <tr>\n",
       "      <th>3</th>\n",
       "      <td>2017-11-05 21:41:00</td>\n",
       "      <td>Weisman Art Museum</td>\n",
       "      <td>30183</td>\n",
       "      <td>2017-11-05 22:05:00</td>\n",
       "      <td>22nd Ave S &amp; Franklin Ave</td>\n",
       "      <td>30014</td>\n",
       "      <td>Casual</td>\n",
       "      <td>1399</td>\n",
       "      <td>11</td>\n",
       "    </tr>\n",
       "    <tr>\n",
       "      <th>4</th>\n",
       "      <td>2017-11-05 21:38:00</td>\n",
       "      <td>South 2nd Street &amp; 3rd Ave S</td>\n",
       "      <td>30030</td>\n",
       "      <td>2017-11-05 21:44:00</td>\n",
       "      <td>6th Ave SE &amp; University Ave</td>\n",
       "      <td>30088</td>\n",
       "      <td>Member</td>\n",
       "      <td>370</td>\n",
       "      <td>11</td>\n",
       "    </tr>\n",
       "  </tbody>\n",
       "</table>\n",
       "</div>"
      ],
      "text/plain": [
       "           Start date                     Start station Start station number  \\\n",
       "0 2017-11-05 21:45:00   Hennepin Ave & S Washington Ave                30184   \n",
       "1 2017-11-05 21:45:00  Broadway Street N & 4th Street E                30122   \n",
       "2 2017-11-05 21:43:00          Dale Street & Grand Ave.                30106   \n",
       "3 2017-11-05 21:41:00                Weisman Art Museum                30183   \n",
       "4 2017-11-05 21:38:00      South 2nd Street & 3rd Ave S                30030   \n",
       "\n",
       "             End date                       End station End station number  \\\n",
       "0 2017-11-05 22:02:00                        Logan Park              30104   \n",
       "1 2017-11-05 22:26:00  Broadway Street N & 4th Street E              30122   \n",
       "2 2017-11-05 22:13:00      N Milton Street & Summit Ave              30101   \n",
       "3 2017-11-05 22:05:00         22nd Ave S & Franklin Ave              30014   \n",
       "4 2017-11-05 21:44:00       6th Ave SE & University Ave              30088   \n",
       "\n",
       "  Account type  Total duration (Seconds)  Start_Month  \n",
       "0       Member                      1048           11  \n",
       "1       Member                      2513           11  \n",
       "2       Member                      1817           11  \n",
       "3       Casual                      1399           11  \n",
       "4       Member                       370           11  "
      ]
     },
     "execution_count": 105,
     "metadata": {},
     "output_type": "execute_result"
    }
   ],
   "source": [
    "data.head()"
   ]
  },
  {
   "cell_type": "code",
   "execution_count": 13,
   "metadata": {},
   "outputs": [
    {
     "data": {
      "text/plain": [
       "3685744"
      ]
     },
     "execution_count": 13,
     "metadata": {},
     "output_type": "execute_result"
    }
   ],
   "source": [
    "# Total number of trips?\n",
    "data.size"
   ]
  },
  {
   "cell_type": "code",
   "execution_count": 40,
   "metadata": {},
   "outputs": [],
   "source": [
    "grp_start = data.groupby('Start station')\n",
    "grp_end = data.groupby('End station')"
   ]
  },
  {
   "cell_type": "code",
   "execution_count": 44,
   "metadata": {},
   "outputs": [
    {
     "name": "stdout",
     "output_type": "stream",
     "text": [
      "Start Stations:  202\n",
      "End Station:  202\n"
     ]
    }
   ],
   "source": [
    "# how many stations have been used?\n",
    "print('Start Stations: ',len(grp_start.size()))\n",
    "print('End Station: ',len(grp_end.size()))"
   ]
  },
  {
   "cell_type": "code",
   "execution_count": 94,
   "metadata": {},
   "outputs": [
    {
     "data": {
      "text/html": [
       "<div>\n",
       "<style scoped>\n",
       "    .dataframe tbody tr th:only-of-type {\n",
       "        vertical-align: middle;\n",
       "    }\n",
       "\n",
       "    .dataframe tbody tr th {\n",
       "        vertical-align: top;\n",
       "    }\n",
       "\n",
       "    .dataframe thead th {\n",
       "        text-align: right;\n",
       "    }\n",
       "</style>\n",
       "<table border=\"1\" class=\"dataframe\">\n",
       "  <thead>\n",
       "    <tr style=\"text-align: right;\">\n",
       "      <th></th>\n",
       "      <th>Trips_start</th>\n",
       "      <th>Perc</th>\n",
       "    </tr>\n",
       "    <tr>\n",
       "      <th>Start station</th>\n",
       "      <th></th>\n",
       "      <th></th>\n",
       "    </tr>\n",
       "  </thead>\n",
       "  <tbody>\n",
       "    <tr>\n",
       "      <th>Lake Street &amp; Knox Ave S</th>\n",
       "      <td>10747</td>\n",
       "      <td>2.33</td>\n",
       "    </tr>\n",
       "    <tr>\n",
       "      <th>Washington Ave SE &amp; Union Street SE</th>\n",
       "      <td>10278</td>\n",
       "      <td>2.23</td>\n",
       "    </tr>\n",
       "    <tr>\n",
       "      <th>Coffman Union</th>\n",
       "      <td>9544</td>\n",
       "      <td>2.07</td>\n",
       "    </tr>\n",
       "    <tr>\n",
       "      <th>Weisman Art Museum</th>\n",
       "      <td>9221</td>\n",
       "      <td>2.00</td>\n",
       "    </tr>\n",
       "    <tr>\n",
       "      <th>6th Ave SE &amp; University Ave</th>\n",
       "      <td>8502</td>\n",
       "      <td>1.85</td>\n",
       "    </tr>\n",
       "    <tr>\n",
       "      <th>11th Ave S &amp; S 2nd Street</th>\n",
       "      <td>8322</td>\n",
       "      <td>1.81</td>\n",
       "    </tr>\n",
       "    <tr>\n",
       "      <th>McNamara Center</th>\n",
       "      <td>8315</td>\n",
       "      <td>1.80</td>\n",
       "    </tr>\n",
       "    <tr>\n",
       "      <th>100 Main Street SE</th>\n",
       "      <td>8300</td>\n",
       "      <td>1.80</td>\n",
       "    </tr>\n",
       "    <tr>\n",
       "      <th>Willey Hall</th>\n",
       "      <td>7865</td>\n",
       "      <td>1.71</td>\n",
       "    </tr>\n",
       "    <tr>\n",
       "      <th>Hennepin County Government Center</th>\n",
       "      <td>7621</td>\n",
       "      <td>1.65</td>\n",
       "    </tr>\n",
       "  </tbody>\n",
       "</table>\n",
       "</div>"
      ],
      "text/plain": [
       "                                     Trips_start  Perc\n",
       "Start station                                         \n",
       "Lake Street & Knox Ave S                   10747  2.33\n",
       "Washington Ave SE & Union Street SE        10278  2.23\n",
       "Coffman Union                               9544  2.07\n",
       "Weisman Art Museum                          9221  2.00\n",
       "6th Ave SE & University Ave                 8502  1.85\n",
       "11th Ave S & S 2nd Street                   8322  1.81\n",
       "McNamara Center                             8315  1.80\n",
       "100 Main Street SE                          8300  1.80\n",
       "Willey Hall                                 7865  1.71\n",
       "Hennepin County Government Center           7621  1.65"
      ]
     },
     "execution_count": 94,
     "metadata": {},
     "output_type": "execute_result"
    }
   ],
   "source": [
    "# Where most Trips are Started\n",
    "start_trips = pd.DataFrame(grp_start.size().sort_values(ascending = False))\n",
    "start_trips.columns = ['Trips_start']\n",
    "start_trips['Perc'] = round(start_trips['Trips_start'] / start_trips['Trips_start'].sum() * 100,2)\n",
    "start_trips.head(10)"
   ]
  },
  {
   "cell_type": "code",
   "execution_count": 95,
   "metadata": {},
   "outputs": [
    {
     "data": {
      "text/html": [
       "<div>\n",
       "<style scoped>\n",
       "    .dataframe tbody tr th:only-of-type {\n",
       "        vertical-align: middle;\n",
       "    }\n",
       "\n",
       "    .dataframe tbody tr th {\n",
       "        vertical-align: top;\n",
       "    }\n",
       "\n",
       "    .dataframe thead th {\n",
       "        text-align: right;\n",
       "    }\n",
       "</style>\n",
       "<table border=\"1\" class=\"dataframe\">\n",
       "  <thead>\n",
       "    <tr style=\"text-align: right;\">\n",
       "      <th></th>\n",
       "      <th>Trips_end</th>\n",
       "      <th>Perc</th>\n",
       "    </tr>\n",
       "    <tr>\n",
       "      <th>End station</th>\n",
       "      <th></th>\n",
       "      <th></th>\n",
       "    </tr>\n",
       "  </thead>\n",
       "  <tbody>\n",
       "    <tr>\n",
       "      <th>Lake Street &amp; Knox Ave S</th>\n",
       "      <td>11658</td>\n",
       "      <td>2.53</td>\n",
       "    </tr>\n",
       "    <tr>\n",
       "      <th>Washington Ave SE &amp; Union Street SE</th>\n",
       "      <td>10117</td>\n",
       "      <td>2.20</td>\n",
       "    </tr>\n",
       "    <tr>\n",
       "      <th>Weisman Art Museum</th>\n",
       "      <td>8618</td>\n",
       "      <td>1.87</td>\n",
       "    </tr>\n",
       "    <tr>\n",
       "      <th>11th Ave S &amp; S 2nd Street</th>\n",
       "      <td>8598</td>\n",
       "      <td>1.87</td>\n",
       "    </tr>\n",
       "    <tr>\n",
       "      <th>6th Ave SE &amp; University Ave</th>\n",
       "      <td>8597</td>\n",
       "      <td>1.87</td>\n",
       "    </tr>\n",
       "    <tr>\n",
       "      <th>Coffman Union</th>\n",
       "      <td>8545</td>\n",
       "      <td>1.85</td>\n",
       "    </tr>\n",
       "    <tr>\n",
       "      <th>100 Main Street SE</th>\n",
       "      <td>8539</td>\n",
       "      <td>1.85</td>\n",
       "    </tr>\n",
       "    <tr>\n",
       "      <th>McNamara Center</th>\n",
       "      <td>8368</td>\n",
       "      <td>1.82</td>\n",
       "    </tr>\n",
       "    <tr>\n",
       "      <th>15th Ave SE &amp; 4th Street SE</th>\n",
       "      <td>7578</td>\n",
       "      <td>1.64</td>\n",
       "    </tr>\n",
       "    <tr>\n",
       "      <th>Social Sciences</th>\n",
       "      <td>7271</td>\n",
       "      <td>1.58</td>\n",
       "    </tr>\n",
       "  </tbody>\n",
       "</table>\n",
       "</div>"
      ],
      "text/plain": [
       "                                     Trips_end  Perc\n",
       "End station                                         \n",
       "Lake Street & Knox Ave S                 11658  2.53\n",
       "Washington Ave SE & Union Street SE      10117  2.20\n",
       "Weisman Art Museum                        8618  1.87\n",
       "11th Ave S & S 2nd Street                 8598  1.87\n",
       "6th Ave SE & University Ave               8597  1.87\n",
       "Coffman Union                             8545  1.85\n",
       "100 Main Street SE                        8539  1.85\n",
       "McNamara Center                           8368  1.82\n",
       "15th Ave SE & 4th Street SE               7578  1.64\n",
       "Social Sciences                           7271  1.58"
      ]
     },
     "execution_count": 95,
     "metadata": {},
     "output_type": "execute_result"
    }
   ],
   "source": [
    "# Where most Trips end\n",
    "end_trips = pd.DataFrame(grp_end.size().sort_values(ascending = False))\n",
    "end_trips.columns = ['Trips_end']\n",
    "end_trips['Perc'] = round(end_trips['Trips_end'] / end_trips['Trips_end'].sum() * 100,2)\n",
    "end_trips.head(10)"
   ]
  },
  {
   "cell_type": "code",
   "execution_count": 96,
   "metadata": {},
   "outputs": [
    {
     "data": {
      "text/html": [
       "<div>\n",
       "<style scoped>\n",
       "    .dataframe tbody tr th:only-of-type {\n",
       "        vertical-align: middle;\n",
       "    }\n",
       "\n",
       "    .dataframe tbody tr th {\n",
       "        vertical-align: top;\n",
       "    }\n",
       "\n",
       "    .dataframe thead th {\n",
       "        text-align: right;\n",
       "    }\n",
       "</style>\n",
       "<table border=\"1\" class=\"dataframe\">\n",
       "  <thead>\n",
       "    <tr style=\"text-align: right;\">\n",
       "      <th></th>\n",
       "      <th>Trips_start</th>\n",
       "      <th>Perc_x</th>\n",
       "      <th>Trips_end</th>\n",
       "      <th>Perc_y</th>\n",
       "    </tr>\n",
       "  </thead>\n",
       "  <tbody>\n",
       "    <tr>\n",
       "      <th>Lake Street &amp; Knox Ave S</th>\n",
       "      <td>10747</td>\n",
       "      <td>2.33</td>\n",
       "      <td>11658</td>\n",
       "      <td>2.53</td>\n",
       "    </tr>\n",
       "    <tr>\n",
       "      <th>Washington Ave SE &amp; Union Street SE</th>\n",
       "      <td>10278</td>\n",
       "      <td>2.23</td>\n",
       "      <td>10117</td>\n",
       "      <td>2.20</td>\n",
       "    </tr>\n",
       "    <tr>\n",
       "      <th>Coffman Union</th>\n",
       "      <td>9544</td>\n",
       "      <td>2.07</td>\n",
       "      <td>8545</td>\n",
       "      <td>1.85</td>\n",
       "    </tr>\n",
       "    <tr>\n",
       "      <th>Weisman Art Museum</th>\n",
       "      <td>9221</td>\n",
       "      <td>2.00</td>\n",
       "      <td>8618</td>\n",
       "      <td>1.87</td>\n",
       "    </tr>\n",
       "    <tr>\n",
       "      <th>6th Ave SE &amp; University Ave</th>\n",
       "      <td>8502</td>\n",
       "      <td>1.85</td>\n",
       "      <td>8597</td>\n",
       "      <td>1.87</td>\n",
       "    </tr>\n",
       "    <tr>\n",
       "      <th>11th Ave S &amp; S 2nd Street</th>\n",
       "      <td>8322</td>\n",
       "      <td>1.81</td>\n",
       "      <td>8598</td>\n",
       "      <td>1.87</td>\n",
       "    </tr>\n",
       "    <tr>\n",
       "      <th>McNamara Center</th>\n",
       "      <td>8315</td>\n",
       "      <td>1.80</td>\n",
       "      <td>8368</td>\n",
       "      <td>1.82</td>\n",
       "    </tr>\n",
       "    <tr>\n",
       "      <th>100 Main Street SE</th>\n",
       "      <td>8300</td>\n",
       "      <td>1.80</td>\n",
       "      <td>8539</td>\n",
       "      <td>1.85</td>\n",
       "    </tr>\n",
       "  </tbody>\n",
       "</table>\n",
       "</div>"
      ],
      "text/plain": [
       "                                     Trips_start  Perc_x  Trips_end  Perc_y\n",
       "Lake Street & Knox Ave S                   10747    2.33      11658    2.53\n",
       "Washington Ave SE & Union Street SE        10278    2.23      10117    2.20\n",
       "Coffman Union                               9544    2.07       8545    1.85\n",
       "Weisman Art Museum                          9221    2.00       8618    1.87\n",
       "6th Ave SE & University Ave                 8502    1.85       8597    1.87\n",
       "11th Ave S & S 2nd Street                   8322    1.81       8598    1.87\n",
       "McNamara Center                             8315    1.80       8368    1.82\n",
       "100 Main Street SE                          8300    1.80       8539    1.85"
      ]
     },
     "execution_count": 96,
     "metadata": {},
     "output_type": "execute_result"
    }
   ],
   "source": [
    "# What are the most used stations amongst top 10?\n",
    "pd.merge(start_trips.head(10), end_trips.head(10), left_index=True, right_index=True)"
   ]
  },
  {
   "cell_type": "code",
   "execution_count": 111,
   "metadata": {},
   "outputs": [
    {
     "data": {
      "text/plain": [
       "Start_Month\n",
       "4     39694\n",
       "5     61165\n",
       "6     77014\n",
       "7     95566\n",
       "8     70822\n",
       "9     71422\n",
       "10    42691\n",
       "11     2344\n",
       "dtype: int64"
      ]
     },
     "execution_count": 111,
     "metadata": {},
     "output_type": "execute_result"
    }
   ],
   "source": [
    "# Number of Trips per Month?\n",
    "data.groupby('Start_Month').size()"
   ]
  },
  {
   "cell_type": "code",
   "execution_count": 126,
   "metadata": {},
   "outputs": [],
   "source": [
    "# What station observe the most frequent trips?\n",
    "freq_trips = data.groupby(['Start station', 'End station'], as_index=False).size()\n",
    "freq_trips = freq_trips.reset_index()\n",
    "freq_trips.columns = ['Start station', 'End station', 'Trips']\n",
    "freq_trips.sort_values(by = 'Trips', ascending = False, inplace = True)"
   ]
  },
  {
   "cell_type": "code",
   "execution_count": 129,
   "metadata": {},
   "outputs": [
    {
     "data": {
      "text/html": [
       "<div>\n",
       "<style scoped>\n",
       "    .dataframe tbody tr th:only-of-type {\n",
       "        vertical-align: middle;\n",
       "    }\n",
       "\n",
       "    .dataframe tbody tr th {\n",
       "        vertical-align: top;\n",
       "    }\n",
       "\n",
       "    .dataframe thead th {\n",
       "        text-align: right;\n",
       "    }\n",
       "</style>\n",
       "<table border=\"1\" class=\"dataframe\">\n",
       "  <thead>\n",
       "    <tr style=\"text-align: right;\">\n",
       "      <th></th>\n",
       "      <th>Start station</th>\n",
       "      <th>End station</th>\n",
       "      <th>Trips</th>\n",
       "    </tr>\n",
       "  </thead>\n",
       "  <tbody>\n",
       "    <tr>\n",
       "      <th>10399</th>\n",
       "      <td>Lake Street &amp; Knox Ave S</td>\n",
       "      <td>Lake Street &amp; Knox Ave S</td>\n",
       "      <td>4853</td>\n",
       "    </tr>\n",
       "    <tr>\n",
       "      <th>9947</th>\n",
       "      <td>Lake Calhoun Center</td>\n",
       "      <td>Lake Calhoun Center</td>\n",
       "      <td>3171</td>\n",
       "    </tr>\n",
       "    <tr>\n",
       "      <th>10100</th>\n",
       "      <td>Lake Harriet Bandshell</td>\n",
       "      <td>Lake Harriet Bandshell</td>\n",
       "      <td>2650</td>\n",
       "    </tr>\n",
       "    <tr>\n",
       "      <th>10034</th>\n",
       "      <td>Lake Como Pavilion</td>\n",
       "      <td>Lake Como Pavilion</td>\n",
       "      <td>2156</td>\n",
       "    </tr>\n",
       "    <tr>\n",
       "      <th>17289</th>\n",
       "      <td>W 36th Street &amp; W Calhoun Parkway</td>\n",
       "      <td>W 36th Street &amp; W Calhoun Parkway</td>\n",
       "      <td>2037</td>\n",
       "    </tr>\n",
       "  </tbody>\n",
       "</table>\n",
       "</div>"
      ],
      "text/plain": [
       "                           Start station                        End station  \\\n",
       "10399           Lake Street & Knox Ave S           Lake Street & Knox Ave S   \n",
       "9947                 Lake Calhoun Center                Lake Calhoun Center   \n",
       "10100             Lake Harriet Bandshell             Lake Harriet Bandshell   \n",
       "10034                 Lake Como Pavilion                 Lake Como Pavilion   \n",
       "17289  W 36th Street & W Calhoun Parkway  W 36th Street & W Calhoun Parkway   \n",
       "\n",
       "       Trips  \n",
       "10399   4853  \n",
       "9947    3171  \n",
       "10100   2650  \n",
       "10034   2156  \n",
       "17289   2037  "
      ]
     },
     "execution_count": 129,
     "metadata": {},
     "output_type": "execute_result"
    }
   ],
   "source": [
    "freq_trips.head()"
   ]
  },
  {
   "cell_type": "code",
   "execution_count": 130,
   "metadata": {},
   "outputs": [],
   "source": [
    "# There seems to be trips where start and End Stations are the same.\n",
    "# Seperating the two will give a better picture"
   ]
  },
  {
   "cell_type": "code",
   "execution_count": 131,
   "metadata": {},
   "outputs": [
    {
     "data": {
      "text/html": [
       "<div>\n",
       "<style scoped>\n",
       "    .dataframe tbody tr th:only-of-type {\n",
       "        vertical-align: middle;\n",
       "    }\n",
       "\n",
       "    .dataframe tbody tr th {\n",
       "        vertical-align: top;\n",
       "    }\n",
       "\n",
       "    .dataframe thead th {\n",
       "        text-align: right;\n",
       "    }\n",
       "</style>\n",
       "<table border=\"1\" class=\"dataframe\">\n",
       "  <thead>\n",
       "    <tr style=\"text-align: right;\">\n",
       "      <th></th>\n",
       "      <th>Start station</th>\n",
       "      <th>End station</th>\n",
       "      <th>Trips</th>\n",
       "    </tr>\n",
       "  </thead>\n",
       "  <tbody>\n",
       "    <tr>\n",
       "      <th>10399</th>\n",
       "      <td>Lake Street &amp; Knox Ave S</td>\n",
       "      <td>Lake Street &amp; Knox Ave S</td>\n",
       "      <td>4853</td>\n",
       "    </tr>\n",
       "    <tr>\n",
       "      <th>9947</th>\n",
       "      <td>Lake Calhoun Center</td>\n",
       "      <td>Lake Calhoun Center</td>\n",
       "      <td>3171</td>\n",
       "    </tr>\n",
       "    <tr>\n",
       "      <th>10100</th>\n",
       "      <td>Lake Harriet Bandshell</td>\n",
       "      <td>Lake Harriet Bandshell</td>\n",
       "      <td>2650</td>\n",
       "    </tr>\n",
       "    <tr>\n",
       "      <th>10034</th>\n",
       "      <td>Lake Como Pavilion</td>\n",
       "      <td>Lake Como Pavilion</td>\n",
       "      <td>2156</td>\n",
       "    </tr>\n",
       "    <tr>\n",
       "      <th>17289</th>\n",
       "      <td>W 36th Street &amp; W Calhoun Parkway</td>\n",
       "      <td>W 36th Street &amp; W Calhoun Parkway</td>\n",
       "      <td>2037</td>\n",
       "    </tr>\n",
       "  </tbody>\n",
       "</table>\n",
       "</div>"
      ],
      "text/plain": [
       "                           Start station                        End station  \\\n",
       "10399           Lake Street & Knox Ave S           Lake Street & Knox Ave S   \n",
       "9947                 Lake Calhoun Center                Lake Calhoun Center   \n",
       "10100             Lake Harriet Bandshell             Lake Harriet Bandshell   \n",
       "10034                 Lake Como Pavilion                 Lake Como Pavilion   \n",
       "17289  W 36th Street & W Calhoun Parkway  W 36th Street & W Calhoun Parkway   \n",
       "\n",
       "       Trips  \n",
       "10399   4853  \n",
       "9947    3171  \n",
       "10100   2650  \n",
       "10034   2156  \n",
       "17289   2037  "
      ]
     },
     "execution_count": 131,
     "metadata": {},
     "output_type": "execute_result"
    }
   ],
   "source": [
    "same_trips = freq_trips[freq_trips['Start station'] == freq_trips['End station']]\n",
    "same_trips.head()"
   ]
  },
  {
   "cell_type": "code",
   "execution_count": 132,
   "metadata": {},
   "outputs": [
    {
     "data": {
      "text/html": [
       "<div>\n",
       "<style scoped>\n",
       "    .dataframe tbody tr th:only-of-type {\n",
       "        vertical-align: middle;\n",
       "    }\n",
       "\n",
       "    .dataframe tbody tr th {\n",
       "        vertical-align: top;\n",
       "    }\n",
       "\n",
       "    .dataframe thead th {\n",
       "        text-align: right;\n",
       "    }\n",
       "</style>\n",
       "<table border=\"1\" class=\"dataframe\">\n",
       "  <thead>\n",
       "    <tr style=\"text-align: right;\">\n",
       "      <th></th>\n",
       "      <th>Start station</th>\n",
       "      <th>End station</th>\n",
       "      <th>Trips</th>\n",
       "    </tr>\n",
       "  </thead>\n",
       "  <tbody>\n",
       "    <tr>\n",
       "      <th>19057</th>\n",
       "      <td>Willey Hall</td>\n",
       "      <td>Weisman Art Museum</td>\n",
       "      <td>1857</td>\n",
       "    </tr>\n",
       "    <tr>\n",
       "      <th>18335</th>\n",
       "      <td>Weisman Art Museum</td>\n",
       "      <td>Willey Hall</td>\n",
       "      <td>1832</td>\n",
       "    </tr>\n",
       "    <tr>\n",
       "      <th>18315</th>\n",
       "      <td>Weisman Art Museum</td>\n",
       "      <td>Social Sciences</td>\n",
       "      <td>1574</td>\n",
       "    </tr>\n",
       "    <tr>\n",
       "      <th>16130</th>\n",
       "      <td>Social Sciences</td>\n",
       "      <td>Weisman Art Museum</td>\n",
       "      <td>1245</td>\n",
       "    </tr>\n",
       "    <tr>\n",
       "      <th>18083</th>\n",
       "      <td>Washington Ave SE &amp; Union Street SE</td>\n",
       "      <td>4th Street &amp; 13th Ave SE</td>\n",
       "      <td>934</td>\n",
       "    </tr>\n",
       "  </tbody>\n",
       "</table>\n",
       "</div>"
      ],
      "text/plain": [
       "                             Start station               End station  Trips\n",
       "19057                          Willey Hall        Weisman Art Museum   1857\n",
       "18335                   Weisman Art Museum               Willey Hall   1832\n",
       "18315                   Weisman Art Museum           Social Sciences   1574\n",
       "16130                      Social Sciences        Weisman Art Museum   1245\n",
       "18083  Washington Ave SE & Union Street SE  4th Street & 13th Ave SE    934"
      ]
     },
     "execution_count": 132,
     "metadata": {},
     "output_type": "execute_result"
    }
   ],
   "source": [
    "diff_trips = freq_trips[freq_trips['Start station'] != freq_trips['End station']]\n",
    "diff_trips.head()"
   ]
  },
  {
   "cell_type": "markdown",
   "metadata": {},
   "source": [
    "### Account Type "
   ]
  },
  {
   "cell_type": "code",
   "execution_count": 133,
   "metadata": {},
   "outputs": [],
   "source": [
    "# How accounts differ in the type of trips taken?"
   ]
  },
  {
   "cell_type": "code",
   "execution_count": 135,
   "metadata": {},
   "outputs": [
    {
     "data": {
      "text/plain": [
       "array(['Member', 'Casual', 'Inconnu'], dtype=object)"
      ]
     },
     "execution_count": 135,
     "metadata": {},
     "output_type": "execute_result"
    }
   ],
   "source": [
    "# Unique Account Types\n",
    "data['Account type'].unique()"
   ]
  },
  {
   "cell_type": "code",
   "execution_count": 164,
   "metadata": {},
   "outputs": [
    {
     "data": {
      "image/png": "[encoded data removed]",
      "text/plain": [
       "<Figure size 576x432 with 1 Axes>"
      ]
     },
     "metadata": {
      "needs_background": "light"
     },
     "output_type": "display_data"
    }
   ],
   "source": [
    "# Trips Distribution\n",
    "plt.figure(figsize = (8,6)) \n",
    "acc_type = data.groupby('Account type').size().sort_values(ascending = False)\n",
    "plt.bar(acc_type.index,acc_type.values)\n",
    "plt.xlabel('Member Type')\n",
    "plt.ylabel('# of Trips')\n",
    "plt.title('Trips per Member Type')\n",
    "plt.show()"
   ]
  },
  {
   "cell_type": "code",
   "execution_count": 171,
   "metadata": {
    "scrolled": true
   },
   "outputs": [
    {
     "data": {
      "text/html": [
       "<div>\n",
       "<style scoped>\n",
       "    .dataframe tbody tr th:only-of-type {\n",
       "        vertical-align: middle;\n",
       "    }\n",
       "\n",
       "    .dataframe tbody tr th {\n",
       "        vertical-align: top;\n",
       "    }\n",
       "\n",
       "    .dataframe thead th {\n",
       "        text-align: right;\n",
       "    }\n",
       "</style>\n",
       "<table border=\"1\" class=\"dataframe\">\n",
       "  <thead>\n",
       "    <tr style=\"text-align: right;\">\n",
       "      <th></th>\n",
       "      <th>Account type</th>\n",
       "      <th>Start_Month</th>\n",
       "      <th>0</th>\n",
       "    </tr>\n",
       "  </thead>\n",
       "  <tbody>\n",
       "    <tr>\n",
       "      <th>0</th>\n",
       "      <td>Casual</td>\n",
       "      <td>4</td>\n",
       "      <td>13861</td>\n",
       "    </tr>\n",
       "    <tr>\n",
       "      <th>1</th>\n",
       "      <td>Casual</td>\n",
       "      <td>5</td>\n",
       "      <td>24297</td>\n",
       "    </tr>\n",
       "    <tr>\n",
       "      <th>2</th>\n",
       "      <td>Casual</td>\n",
       "      <td>6</td>\n",
       "      <td>28915</td>\n",
       "    </tr>\n",
       "    <tr>\n",
       "      <th>3</th>\n",
       "      <td>Casual</td>\n",
       "      <td>7</td>\n",
       "      <td>41367</td>\n",
       "    </tr>\n",
       "    <tr>\n",
       "      <th>4</th>\n",
       "      <td>Casual</td>\n",
       "      <td>8</td>\n",
       "      <td>26410</td>\n",
       "    </tr>\n",
       "  </tbody>\n",
       "</table>\n",
       "</div>"
      ],
      "text/plain": [
       "  Account type  Start_Month      0\n",
       "0       Casual            4  13861\n",
       "1       Casual            5  24297\n",
       "2       Casual            6  28915\n",
       "3       Casual            7  41367\n",
       "4       Casual            8  26410"
      ]
     },
     "execution_count": 171,
     "metadata": {},
     "output_type": "execute_result"
    }
   ],
   "source": [
    "# Trips Trend per month\n",
    "trip_month = data.groupby(['Account type', 'Start_Month']).size()\n",
    "trip_month = trip_month.reset_index()\n",
    "trip_month.head()"
   ]
  },
  {
   "cell_type": "code",
   "execution_count": 183,
   "metadata": {},
   "outputs": [
    {
     "data": {
      "image/png": "[encoded data removed]",
      "text/plain": [
       "<Figure size 1080x504 with 1 Axes>"
      ]
     },
     "metadata": {
      "needs_background": "light"
     },
     "output_type": "display_data"
    }
   ],
   "source": [
    "fig, ax = plt.subplots(figsize=(15,7))\n",
    "plt.title('Number of Trips per Month')\n",
    "data.groupby(['Start_Month','Account type']).size().unstack().plot(ax = ax)\n",
    "plt.xlabel('Month')\n",
    "plt.ylabel('Number of Trips')\n",
    "plt.show()"
   ]
  },
  {
   "cell_type": "code",
   "execution_count": null,
   "metadata": {},
   "outputs": [],
   "source": [
    "\n"
   ]
  }
 ],
 "metadata": {
  "kernelspec": {
   "display_name": "Python 3",
   "language": "python",
   "name": "python3"
  },
  "language_info": {
   "codemirror_mode": {
    "name": "ipython",
    "version": 3
   },
   "file_extension": ".py",
   "mimetype": "text/x-python",
   "name": "python",
   "nbconvert_exporter": "python",
   "pygments_lexer": "ipython3",
   "version": "3.7.3"
  }
 },
 "nbformat": 4,
 "nbformat_minor": 2
}
